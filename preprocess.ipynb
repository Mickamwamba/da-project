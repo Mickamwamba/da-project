{
 "cells": [
  {
   "cell_type": "code",
   "execution_count": 3,
   "id": "f204b3f9",
   "metadata": {},
   "outputs": [],
   "source": [
    "import os\n",
    "import pandas as pd\n",
    "import matplotlib.pyplot as plt\n",
    "import seaborn as sns"
   ]
  },
  {
   "cell_type": "code",
   "execution_count": 7,
   "id": "d523395f",
   "metadata": {},
   "outputs": [
    {
     "data": {
      "text/html": [
       "<div>\n",
       "<style scoped>\n",
       "    .dataframe tbody tr th:only-of-type {\n",
       "        vertical-align: middle;\n",
       "    }\n",
       "\n",
       "    .dataframe tbody tr th {\n",
       "        vertical-align: top;\n",
       "    }\n",
       "\n",
       "    .dataframe thead th {\n",
       "        text-align: right;\n",
       "    }\n",
       "</style>\n",
       "<table border=\"1\" class=\"dataframe\">\n",
       "  <thead>\n",
       "    <tr style=\"text-align: right;\">\n",
       "      <th></th>\n",
       "      <th>male</th>\n",
       "      <th>age</th>\n",
       "      <th>education</th>\n",
       "      <th>currentSmoker</th>\n",
       "      <th>cigsPerDay</th>\n",
       "      <th>BPMeds</th>\n",
       "      <th>prevalentStroke</th>\n",
       "      <th>prevalentHyp</th>\n",
       "      <th>diabetes</th>\n",
       "      <th>totChol</th>\n",
       "      <th>sysBP</th>\n",
       "      <th>diaBP</th>\n",
       "      <th>BMI</th>\n",
       "      <th>heartRate</th>\n",
       "      <th>glucose</th>\n",
       "      <th>TenYearCHD</th>\n",
       "    </tr>\n",
       "  </thead>\n",
       "  <tbody>\n",
       "    <tr>\n",
       "      <th>0</th>\n",
       "      <td>1</td>\n",
       "      <td>39</td>\n",
       "      <td>4.0</td>\n",
       "      <td>0</td>\n",
       "      <td>0.0</td>\n",
       "      <td>0.0</td>\n",
       "      <td>0</td>\n",
       "      <td>0</td>\n",
       "      <td>0</td>\n",
       "      <td>195.0</td>\n",
       "      <td>106.0</td>\n",
       "      <td>70.0</td>\n",
       "      <td>26.97</td>\n",
       "      <td>80.0</td>\n",
       "      <td>77.0</td>\n",
       "      <td>0</td>\n",
       "    </tr>\n",
       "    <tr>\n",
       "      <th>1</th>\n",
       "      <td>0</td>\n",
       "      <td>46</td>\n",
       "      <td>2.0</td>\n",
       "      <td>0</td>\n",
       "      <td>0.0</td>\n",
       "      <td>0.0</td>\n",
       "      <td>0</td>\n",
       "      <td>0</td>\n",
       "      <td>0</td>\n",
       "      <td>250.0</td>\n",
       "      <td>121.0</td>\n",
       "      <td>81.0</td>\n",
       "      <td>28.73</td>\n",
       "      <td>95.0</td>\n",
       "      <td>76.0</td>\n",
       "      <td>0</td>\n",
       "    </tr>\n",
       "    <tr>\n",
       "      <th>2</th>\n",
       "      <td>1</td>\n",
       "      <td>48</td>\n",
       "      <td>1.0</td>\n",
       "      <td>1</td>\n",
       "      <td>20.0</td>\n",
       "      <td>0.0</td>\n",
       "      <td>0</td>\n",
       "      <td>0</td>\n",
       "      <td>0</td>\n",
       "      <td>245.0</td>\n",
       "      <td>127.5</td>\n",
       "      <td>80.0</td>\n",
       "      <td>25.34</td>\n",
       "      <td>75.0</td>\n",
       "      <td>70.0</td>\n",
       "      <td>0</td>\n",
       "    </tr>\n",
       "    <tr>\n",
       "      <th>3</th>\n",
       "      <td>0</td>\n",
       "      <td>61</td>\n",
       "      <td>3.0</td>\n",
       "      <td>1</td>\n",
       "      <td>30.0</td>\n",
       "      <td>0.0</td>\n",
       "      <td>0</td>\n",
       "      <td>1</td>\n",
       "      <td>0</td>\n",
       "      <td>225.0</td>\n",
       "      <td>150.0</td>\n",
       "      <td>95.0</td>\n",
       "      <td>28.58</td>\n",
       "      <td>65.0</td>\n",
       "      <td>103.0</td>\n",
       "      <td>1</td>\n",
       "    </tr>\n",
       "    <tr>\n",
       "      <th>4</th>\n",
       "      <td>0</td>\n",
       "      <td>46</td>\n",
       "      <td>3.0</td>\n",
       "      <td>1</td>\n",
       "      <td>23.0</td>\n",
       "      <td>0.0</td>\n",
       "      <td>0</td>\n",
       "      <td>0</td>\n",
       "      <td>0</td>\n",
       "      <td>285.0</td>\n",
       "      <td>130.0</td>\n",
       "      <td>84.0</td>\n",
       "      <td>23.10</td>\n",
       "      <td>85.0</td>\n",
       "      <td>85.0</td>\n",
       "      <td>0</td>\n",
       "    </tr>\n",
       "  </tbody>\n",
       "</table>\n",
       "</div>"
      ],
      "text/plain": [
       "   male  age  education  currentSmoker  cigsPerDay  BPMeds  prevalentStroke  \\\n",
       "0     1   39        4.0              0         0.0     0.0                0   \n",
       "1     0   46        2.0              0         0.0     0.0                0   \n",
       "2     1   48        1.0              1        20.0     0.0                0   \n",
       "3     0   61        3.0              1        30.0     0.0                0   \n",
       "4     0   46        3.0              1        23.0     0.0                0   \n",
       "\n",
       "   prevalentHyp  diabetes  totChol  sysBP  diaBP    BMI  heartRate  glucose  \\\n",
       "0             0         0    195.0  106.0   70.0  26.97       80.0     77.0   \n",
       "1             0         0    250.0  121.0   81.0  28.73       95.0     76.0   \n",
       "2             0         0    245.0  127.5   80.0  25.34       75.0     70.0   \n",
       "3             1         0    225.0  150.0   95.0  28.58       65.0    103.0   \n",
       "4             0         0    285.0  130.0   84.0  23.10       85.0     85.0   \n",
       "\n",
       "   TenYearCHD  \n",
       "0           0  \n",
       "1           0  \n",
       "2           0  \n",
       "3           1  \n",
       "4           0  "
      ]
     },
     "execution_count": 7,
     "metadata": {},
     "output_type": "execute_result"
    }
   ],
   "source": [
    "cwd = os.getcwd()\n",
    "file = os.path.join(cwd,'framingham.csv')\n",
    "data = pd.read_csv(file)\n",
    "data.head()"
   ]
  },
  {
   "cell_type": "code",
   "execution_count": 8,
   "id": "491855d5",
   "metadata": {},
   "outputs": [
    {
     "data": {
      "text/plain": [
       "(4240, 16)"
      ]
     },
     "execution_count": 8,
     "metadata": {},
     "output_type": "execute_result"
    }
   ],
   "source": [
    "data.shape"
   ]
  },
  {
   "cell_type": "code",
   "execution_count": 9,
   "id": "e9b5dc1e",
   "metadata": {},
   "outputs": [
    {
     "name": "stdout",
     "output_type": "stream",
     "text": [
      "<class 'pandas.core.frame.DataFrame'>\n",
      "RangeIndex: 4240 entries, 0 to 4239\n",
      "Data columns (total 16 columns):\n",
      " #   Column           Non-Null Count  Dtype  \n",
      "---  ------           --------------  -----  \n",
      " 0   male             4240 non-null   int64  \n",
      " 1   age              4240 non-null   int64  \n",
      " 2   education        4135 non-null   float64\n",
      " 3   currentSmoker    4240 non-null   int64  \n",
      " 4   cigsPerDay       4211 non-null   float64\n",
      " 5   BPMeds           4187 non-null   float64\n",
      " 6   prevalentStroke  4240 non-null   int64  \n",
      " 7   prevalentHyp     4240 non-null   int64  \n",
      " 8   diabetes         4240 non-null   int64  \n",
      " 9   totChol          4190 non-null   float64\n",
      " 10  sysBP            4240 non-null   float64\n",
      " 11  diaBP            4240 non-null   float64\n",
      " 12  BMI              4221 non-null   float64\n",
      " 13  heartRate        4239 non-null   float64\n",
      " 14  glucose          3852 non-null   float64\n",
      " 15  TenYearCHD       4240 non-null   int64  \n",
      "dtypes: float64(9), int64(7)\n",
      "memory usage: 530.1 KB\n"
     ]
    }
   ],
   "source": [
    "data.info()"
   ]
  },
  {
   "cell_type": "code",
   "execution_count": 20,
   "id": "3a893ae2",
   "metadata": {},
   "outputs": [
    {
     "data": {
      "text/plain": [
       "male                 0\n",
       "age                  0\n",
       "education          105\n",
       "currentSmoker        0\n",
       "cigsPerDay          29\n",
       "BPMeds              53\n",
       "prevalentStroke      0\n",
       "prevalentHyp         0\n",
       "diabetes             0\n",
       "totChol             50\n",
       "sysBP                0\n",
       "diaBP                0\n",
       "BMI                 19\n",
       "heartRate            1\n",
       "glucose            388\n",
       "TenYearCHD           0\n",
       "dtype: int64"
      ]
     },
     "execution_count": 20,
     "metadata": {},
     "output_type": "execute_result"
    }
   ],
   "source": [
    "data.isna().sum()"
   ]
  },
  {
   "cell_type": "code",
   "execution_count": 38,
   "id": "7275adf7",
   "metadata": {
    "scrolled": true
   },
   "outputs": [
    {
     "data": {
      "text/plain": [
       "glucose            9.150943\n",
       "education          2.476415\n",
       "BPMeds             1.250000\n",
       "totChol            1.179245\n",
       "cigsPerDay         0.683962\n",
       "BMI                0.448113\n",
       "heartRate          0.023585\n",
       "male               0.000000\n",
       "age                0.000000\n",
       "currentSmoker      0.000000\n",
       "prevalentStroke    0.000000\n",
       "prevalentHyp       0.000000\n",
       "diabetes           0.000000\n",
       "sysBP              0.000000\n",
       "diaBP              0.000000\n",
       "TenYearCHD         0.000000\n",
       "dtype: float64"
      ]
     },
     "execution_count": 38,
     "metadata": {},
     "output_type": "execute_result"
    }
   ],
   "source": [
    "(data.isna().sum()*100/len(data)).sort_values(ascending=False)"
   ]
  },
  {
   "cell_type": "code",
   "execution_count": 43,
   "id": "f57d52ff",
   "metadata": {},
   "outputs": [],
   "source": [
    "df = pd.DataFrame({'index':data.isna().sum().index,'count':data.isna().sum().values})"
   ]
  },
  {
   "cell_type": "code",
   "execution_count": 51,
   "id": "a6c0de28",
   "metadata": {},
   "outputs": [
    {
     "data": {
      "text/plain": [
       "(array([ 0,  1,  2,  3,  4,  5,  6,  7,  8,  9, 10, 11, 12, 13, 14, 15]),\n",
       " [Text(0, 0, 'male'),\n",
       "  Text(1, 0, 'age'),\n",
       "  Text(2, 0, 'currentSmoker'),\n",
       "  Text(3, 0, 'prevalentStroke'),\n",
       "  Text(4, 0, 'prevalentHyp'),\n",
       "  Text(5, 0, 'diabetes'),\n",
       "  Text(6, 0, 'sysBP'),\n",
       "  Text(7, 0, 'diaBP'),\n",
       "  Text(8, 0, 'TenYearCHD'),\n",
       "  Text(9, 0, 'heartRate'),\n",
       "  Text(10, 0, 'BMI'),\n",
       "  Text(11, 0, 'cigsPerDay'),\n",
       "  Text(12, 0, 'totChol'),\n",
       "  Text(13, 0, 'BPMeds'),\n",
       "  Text(14, 0, 'education'),\n",
       "  Text(15, 0, 'glucose')])"
      ]
     },
     "execution_count": 51,
     "metadata": {},
     "output_type": "execute_result"
    },
    {
     "data": {
      "image/png": "[encoded data removed]",
      "text/plain": [
       "<Figure size 640x480 with 1 Axes>"
      ]
     },
     "metadata": {},
     "output_type": "display_data"
    }
   ],
   "source": [
    "sns.barplot(data=df.sort_values(by='count'),x='index',y='count')\n",
    "plt.xticks(rotation=45)"
   ]
  },
  {
   "cell_type": "markdown",
   "id": "5ace633d",
   "metadata": {},
   "source": [
    "# Clean the glucose column"
   ]
  },
  {
   "cell_type": "code",
   "execution_count": 53,
   "id": "2a2f949e",
   "metadata": {},
   "outputs": [
    {
     "data": {
      "text/plain": [
       "388"
      ]
     },
     "execution_count": 53,
     "metadata": {},
     "output_type": "execute_result"
    }
   ],
   "source": [
    "data['glucose'].isna().sum()"
   ]
  },
  {
   "cell_type": "code",
   "execution_count": 55,
   "id": "a8f22a65",
   "metadata": {},
   "outputs": [],
   "source": [
    "data['glucose'].fillna(data['glucose'].mean(),inplace=True)"
   ]
  },
  {
   "cell_type": "code",
   "execution_count": 66,
   "id": "46dc714e",
   "metadata": {},
   "outputs": [
    {
     "data": {
      "text/plain": [
       "0"
      ]
     },
     "execution_count": 66,
     "metadata": {},
     "output_type": "execute_result"
    }
   ],
   "source": [
    "data['glucose'].isna().sum()"
   ]
  },
  {
   "cell_type": "markdown",
   "id": "75ce9293",
   "metadata": {},
   "source": [
    "##  Fill na for education"
   ]
  },
  {
   "cell_type": "code",
   "execution_count": 60,
   "id": "103df225",
   "metadata": {},
   "outputs": [
    {
     "data": {
      "text/plain": [
       "105"
      ]
     },
     "execution_count": 60,
     "metadata": {},
     "output_type": "execute_result"
    }
   ],
   "source": [
    "data['education'].isna().sum()"
   ]
  },
  {
   "cell_type": "code",
   "execution_count": 78,
   "id": "aee12a5b",
   "metadata": {},
   "outputs": [],
   "source": [
    "data['education'].fillna(data['education'].mode()[0],inplace=True)"
   ]
  },
  {
   "cell_type": "code",
   "execution_count": 80,
   "id": "bf6ba155",
   "metadata": {},
   "outputs": [
    {
     "data": {
      "text/plain": [
       "0"
      ]
     },
     "execution_count": 80,
     "metadata": {},
     "output_type": "execute_result"
    }
   ],
   "source": [
    "data['education'].isna().sum()"
   ]
  },
  {
   "cell_type": "code",
   "execution_count": 84,
   "id": "e9f5e623",
   "metadata": {},
   "outputs": [
    {
     "data": {
      "text/plain": [
       "count    4187.000000\n",
       "mean        0.029615\n",
       "std         0.169544\n",
       "min         0.000000\n",
       "25%         0.000000\n",
       "50%         0.000000\n",
       "75%         0.000000\n",
       "max         1.000000\n",
       "Name: BPMeds, dtype: float64"
      ]
     },
     "execution_count": 84,
     "metadata": {},
     "output_type": "execute_result"
    }
   ],
   "source": [
    "## Fill na for \n",
    "data['BPMeds'].describe()"
   ]
  },
  {
   "cell_type": "code",
   "execution_count": 88,
   "id": "b813125e",
   "metadata": {},
   "outputs": [],
   "source": [
    "data.dropna(axis=0,subset=['BPMeds'],inplace=True)"
   ]
  },
  {
   "cell_type": "markdown",
   "id": "8f78b6b5",
   "metadata": {},
   "source": [
    "# Clean TotChol"
   ]
  },
  {
   "cell_type": "code",
   "execution_count": 92,
   "id": "0867cbef",
   "metadata": {},
   "outputs": [
    {
     "data": {
      "text/plain": [
       "49"
      ]
     },
     "execution_count": 92,
     "metadata": {},
     "output_type": "execute_result"
    }
   ],
   "source": [
    "data['totChol'].isna().sum()"
   ]
  },
  {
   "cell_type": "code",
   "execution_count": 94,
   "id": "f40ce6ea",
   "metadata": {},
   "outputs": [],
   "source": [
    "data['totChol'].fillna(data['totChol'].mean(),inplace=True)"
   ]
  },
  {
   "cell_type": "code",
   "execution_count": 95,
   "id": "40fe758c",
   "metadata": {},
   "outputs": [
    {
     "data": {
      "text/plain": [
       "0"
      ]
     },
     "execution_count": 95,
     "metadata": {},
     "output_type": "execute_result"
    }
   ],
   "source": [
    "data['totChol'].isna().sum()"
   ]
  },
  {
   "cell_type": "markdown",
   "id": "288aad4f",
   "metadata": {},
   "source": [
    "# Cigs per day"
   ]
  },
  {
   "cell_type": "code",
   "execution_count": 97,
   "id": "2c01da60",
   "metadata": {},
   "outputs": [
    {
     "data": {
      "text/plain": [
       "29"
      ]
     },
     "execution_count": 97,
     "metadata": {},
     "output_type": "execute_result"
    }
   ],
   "source": [
    "data['cigsPerDay'].isna().sum()"
   ]
  },
  {
   "cell_type": "code",
   "execution_count": 98,
   "id": "bb6b1405",
   "metadata": {},
   "outputs": [
    {
     "data": {
      "text/plain": [
       "count    4158.000000\n",
       "mean        9.016595\n",
       "std        11.919745\n",
       "min         0.000000\n",
       "25%         0.000000\n",
       "50%         0.000000\n",
       "75%        20.000000\n",
       "max        70.000000\n",
       "Name: cigsPerDay, dtype: float64"
      ]
     },
     "execution_count": 98,
     "metadata": {},
     "output_type": "execute_result"
    }
   ],
   "source": [
    "data['cigsPerDay'].describe()"
   ]
  },
  {
   "cell_type": "code",
   "execution_count": 100,
   "id": "2a727fca",
   "metadata": {},
   "outputs": [],
   "source": [
    "data['cigsPerDay'].fillna(data['cigsPerDay'].mode()[0],inplace=True)"
   ]
  },
  {
   "cell_type": "code",
   "execution_count": 101,
   "id": "d3bac183",
   "metadata": {},
   "outputs": [
    {
     "data": {
      "text/plain": [
       "0"
      ]
     },
     "execution_count": 101,
     "metadata": {},
     "output_type": "execute_result"
    }
   ],
   "source": [
    "data['cigsPerDay'].isna().sum()"
   ]
  },
  {
   "cell_type": "code",
   "execution_count": 102,
   "id": "315f4ce9",
   "metadata": {},
   "outputs": [
    {
     "data": {
      "text/plain": [
       "19"
      ]
     },
     "execution_count": 102,
     "metadata": {},
     "output_type": "execute_result"
    }
   ],
   "source": [
    "data['BMI'].isna().sum()"
   ]
  },
  {
   "cell_type": "code",
   "execution_count": 103,
   "id": "b847408d",
   "metadata": {},
   "outputs": [],
   "source": [
    "data['BMI'].fillna(data['BMI'].mean(),inplace=True)"
   ]
  },
  {
   "cell_type": "code",
   "execution_count": 104,
   "id": "b1e81863",
   "metadata": {},
   "outputs": [
    {
     "data": {
      "text/plain": [
       "0"
      ]
     },
     "execution_count": 104,
     "metadata": {},
     "output_type": "execute_result"
    }
   ],
   "source": [
    "data['BMI'].isna().sum()"
   ]
  },
  {
   "cell_type": "code",
   "execution_count": 105,
   "id": "0f1ae225",
   "metadata": {
    "scrolled": true
   },
   "outputs": [
    {
     "data": {
      "text/plain": [
       "male               0\n",
       "age                0\n",
       "education          0\n",
       "currentSmoker      0\n",
       "cigsPerDay         0\n",
       "BPMeds             0\n",
       "prevalentStroke    0\n",
       "prevalentHyp       0\n",
       "diabetes           0\n",
       "totChol            0\n",
       "sysBP              0\n",
       "diaBP              0\n",
       "BMI                0\n",
       "heartRate          1\n",
       "glucose            0\n",
       "TenYearCHD         0\n",
       "dtype: int64"
      ]
     },
     "execution_count": 105,
     "metadata": {},
     "output_type": "execute_result"
    }
   ],
   "source": [
    "data.isna().sum()"
   ]
  },
  {
   "cell_type": "code",
   "execution_count": 106,
   "id": "77413215",
   "metadata": {},
   "outputs": [],
   "source": [
    "data.dropna(axis=0,subset=['heartRate'],inplace=True)"
   ]
  },
  {
   "cell_type": "code",
   "execution_count": 107,
   "id": "27657534",
   "metadata": {},
   "outputs": [
    {
     "data": {
      "text/plain": [
       "male               0\n",
       "age                0\n",
       "education          0\n",
       "currentSmoker      0\n",
       "cigsPerDay         0\n",
       "BPMeds             0\n",
       "prevalentStroke    0\n",
       "prevalentHyp       0\n",
       "diabetes           0\n",
       "totChol            0\n",
       "sysBP              0\n",
       "diaBP              0\n",
       "BMI                0\n",
       "heartRate          0\n",
       "glucose            0\n",
       "TenYearCHD         0\n",
       "dtype: int64"
      ]
     },
     "execution_count": 107,
     "metadata": {},
     "output_type": "execute_result"
    }
   ],
   "source": [
    "data.isna().sum()"
   ]
  },
  {
   "cell_type": "code",
   "execution_count": null,
   "id": "c5405359",
   "metadata": {},
   "outputs": [],
   "source": []
  },
  {
   "cell_type": "markdown",
   "id": "b7e3c09e",
   "metadata": {},
   "source": [
    "# Data Types"
   ]
  },
  {
   "cell_type": "code",
   "execution_count": 108,
   "id": "8d294326",
   "metadata": {},
   "outputs": [
    {
     "name": "stdout",
     "output_type": "stream",
     "text": [
      "<class 'pandas.core.frame.DataFrame'>\n",
      "Int64Index: 4186 entries, 0 to 4239\n",
      "Data columns (total 16 columns):\n",
      " #   Column           Non-Null Count  Dtype  \n",
      "---  ------           --------------  -----  \n",
      " 0   male             4186 non-null   int64  \n",
      " 1   age              4186 non-null   int64  \n",
      " 2   education        4186 non-null   float64\n",
      " 3   currentSmoker    4186 non-null   int64  \n",
      " 4   cigsPerDay       4186 non-null   float64\n",
      " 5   BPMeds           4186 non-null   float64\n",
      " 6   prevalentStroke  4186 non-null   int64  \n",
      " 7   prevalentHyp     4186 non-null   int64  \n",
      " 8   diabetes         4186 non-null   int64  \n",
      " 9   totChol          4186 non-null   float64\n",
      " 10  sysBP            4186 non-null   float64\n",
      " 11  diaBP            4186 non-null   float64\n",
      " 12  BMI              4186 non-null   float64\n",
      " 13  heartRate        4186 non-null   float64\n",
      " 14  glucose          4186 non-null   float64\n",
      " 15  TenYearCHD       4186 non-null   int64  \n",
      "dtypes: float64(9), int64(7)\n",
      "memory usage: 556.0 KB\n"
     ]
    }
   ],
   "source": [
    "data.info()"
   ]
  },
  {
   "cell_type": "code",
   "execution_count": 109,
   "id": "7fd1b1bf",
   "metadata": {},
   "outputs": [],
   "source": [
    "to_categorical = ['male','education','currentSmoker','BPMeds','prevalentStroke','prevalentHyp','diabetes','TenYearCHD']\n",
    "\n",
    "for col in to_categorical:\n",
    "    data[col] = data[col].astype('category')\n"
   ]
  },
  {
   "cell_type": "code",
   "execution_count": 110,
   "id": "113ac896",
   "metadata": {},
   "outputs": [
    {
     "name": "stdout",
     "output_type": "stream",
     "text": [
      "<class 'pandas.core.frame.DataFrame'>\n",
      "Int64Index: 4186 entries, 0 to 4239\n",
      "Data columns (total 16 columns):\n",
      " #   Column           Non-Null Count  Dtype   \n",
      "---  ------           --------------  -----   \n",
      " 0   male             4186 non-null   category\n",
      " 1   age              4186 non-null   int64   \n",
      " 2   education        4186 non-null   category\n",
      " 3   currentSmoker    4186 non-null   category\n",
      " 4   cigsPerDay       4186 non-null   float64 \n",
      " 5   BPMeds           4186 non-null   category\n",
      " 6   prevalentStroke  4186 non-null   category\n",
      " 7   prevalentHyp     4186 non-null   category\n",
      " 8   diabetes         4186 non-null   category\n",
      " 9   totChol          4186 non-null   float64 \n",
      " 10  sysBP            4186 non-null   float64 \n",
      " 11  diaBP            4186 non-null   float64 \n",
      " 12  BMI              4186 non-null   float64 \n",
      " 13  heartRate        4186 non-null   float64 \n",
      " 14  glucose          4186 non-null   float64 \n",
      " 15  TenYearCHD       4186 non-null   category\n",
      "dtypes: category(8), float64(7), int64(1)\n",
      "memory usage: 328.1 KB\n"
     ]
    }
   ],
   "source": [
    "data.info()"
   ]
  },
  {
   "cell_type": "markdown",
   "id": "d9739256",
   "metadata": {},
   "source": [
    "# Correlation Analysis"
   ]
  },
  {
   "cell_type": "code",
   "execution_count": 113,
   "id": "67f52c33",
   "metadata": {},
   "outputs": [
    {
     "data": {
      "text/html": [
       "<div>\n",
       "<style scoped>\n",
       "    .dataframe tbody tr th:only-of-type {\n",
       "        vertical-align: middle;\n",
       "    }\n",
       "\n",
       "    .dataframe tbody tr th {\n",
       "        vertical-align: top;\n",
       "    }\n",
       "\n",
       "    .dataframe thead th {\n",
       "        text-align: right;\n",
       "    }\n",
       "</style>\n",
       "<table border=\"1\" class=\"dataframe\">\n",
       "  <thead>\n",
       "    <tr style=\"text-align: right;\">\n",
       "      <th></th>\n",
       "      <th>age</th>\n",
       "      <th>cigsPerDay</th>\n",
       "      <th>totChol</th>\n",
       "      <th>sysBP</th>\n",
       "      <th>diaBP</th>\n",
       "      <th>BMI</th>\n",
       "      <th>heartRate</th>\n",
       "      <th>glucose</th>\n",
       "    </tr>\n",
       "  </thead>\n",
       "  <tbody>\n",
       "    <tr>\n",
       "      <th>age</th>\n",
       "      <td>1.000000</td>\n",
       "      <td>-0.189568</td>\n",
       "      <td>0.258760</td>\n",
       "      <td>0.392546</td>\n",
       "      <td>0.208112</td>\n",
       "      <td>0.134710</td>\n",
       "      <td>-0.012305</td>\n",
       "      <td>0.116316</td>\n",
       "    </tr>\n",
       "    <tr>\n",
       "      <th>cigsPerDay</th>\n",
       "      <td>-0.189568</td>\n",
       "      <td>1.000000</td>\n",
       "      <td>-0.026307</td>\n",
       "      <td>-0.086508</td>\n",
       "      <td>-0.054050</td>\n",
       "      <td>-0.090694</td>\n",
       "      <td>0.072639</td>\n",
       "      <td>-0.054207</td>\n",
       "    </tr>\n",
       "    <tr>\n",
       "      <th>totChol</th>\n",
       "      <td>0.258760</td>\n",
       "      <td>-0.026307</td>\n",
       "      <td>1.000000</td>\n",
       "      <td>0.208449</td>\n",
       "      <td>0.164986</td>\n",
       "      <td>0.120245</td>\n",
       "      <td>0.091462</td>\n",
       "      <td>0.044933</td>\n",
       "    </tr>\n",
       "    <tr>\n",
       "      <th>sysBP</th>\n",
       "      <td>0.392546</td>\n",
       "      <td>-0.086508</td>\n",
       "      <td>0.208449</td>\n",
       "      <td>1.000000</td>\n",
       "      <td>0.785208</td>\n",
       "      <td>0.327464</td>\n",
       "      <td>0.181134</td>\n",
       "      <td>0.134377</td>\n",
       "    </tr>\n",
       "    <tr>\n",
       "      <th>diaBP</th>\n",
       "      <td>0.208112</td>\n",
       "      <td>-0.054050</td>\n",
       "      <td>0.164986</td>\n",
       "      <td>0.785208</td>\n",
       "      <td>1.000000</td>\n",
       "      <td>0.380045</td>\n",
       "      <td>0.179297</td>\n",
       "      <td>0.060042</td>\n",
       "    </tr>\n",
       "    <tr>\n",
       "      <th>BMI</th>\n",
       "      <td>0.134710</td>\n",
       "      <td>-0.090694</td>\n",
       "      <td>0.120245</td>\n",
       "      <td>0.327464</td>\n",
       "      <td>0.380045</td>\n",
       "      <td>1.000000</td>\n",
       "      <td>0.066934</td>\n",
       "      <td>0.081366</td>\n",
       "    </tr>\n",
       "    <tr>\n",
       "      <th>heartRate</th>\n",
       "      <td>-0.012305</td>\n",
       "      <td>0.072639</td>\n",
       "      <td>0.091462</td>\n",
       "      <td>0.181134</td>\n",
       "      <td>0.179297</td>\n",
       "      <td>0.066934</td>\n",
       "      <td>1.000000</td>\n",
       "      <td>0.091527</td>\n",
       "    </tr>\n",
       "    <tr>\n",
       "      <th>glucose</th>\n",
       "      <td>0.116316</td>\n",
       "      <td>-0.054207</td>\n",
       "      <td>0.044933</td>\n",
       "      <td>0.134377</td>\n",
       "      <td>0.060042</td>\n",
       "      <td>0.081366</td>\n",
       "      <td>0.091527</td>\n",
       "      <td>1.000000</td>\n",
       "    </tr>\n",
       "  </tbody>\n",
       "</table>\n",
       "</div>"
      ],
      "text/plain": [
       "                 age  cigsPerDay   totChol     sysBP     diaBP       BMI  \\\n",
       "age         1.000000   -0.189568  0.258760  0.392546  0.208112  0.134710   \n",
       "cigsPerDay -0.189568    1.000000 -0.026307 -0.086508 -0.054050 -0.090694   \n",
       "totChol     0.258760   -0.026307  1.000000  0.208449  0.164986  0.120245   \n",
       "sysBP       0.392546   -0.086508  0.208449  1.000000  0.785208  0.327464   \n",
       "diaBP       0.208112   -0.054050  0.164986  0.785208  1.000000  0.380045   \n",
       "BMI         0.134710   -0.090694  0.120245  0.327464  0.380045  1.000000   \n",
       "heartRate  -0.012305    0.072639  0.091462  0.181134  0.179297  0.066934   \n",
       "glucose     0.116316   -0.054207  0.044933  0.134377  0.060042  0.081366   \n",
       "\n",
       "            heartRate   glucose  \n",
       "age         -0.012305  0.116316  \n",
       "cigsPerDay   0.072639 -0.054207  \n",
       "totChol      0.091462  0.044933  \n",
       "sysBP        0.181134  0.134377  \n",
       "diaBP        0.179297  0.060042  \n",
       "BMI          0.066934  0.081366  \n",
       "heartRate    1.000000  0.091527  \n",
       "glucose      0.091527  1.000000  "
      ]
     },
     "execution_count": 113,
     "metadata": {},
     "output_type": "execute_result"
    }
   ],
   "source": [
    "data.corr()"
   ]
  },
  {
   "cell_type": "code",
   "execution_count": 114,
   "id": "c8ea885a",
   "metadata": {},
   "outputs": [
    {
     "data": {
      "text/plain": [
       "<AxesSubplot:>"
      ]
     },
     "execution_count": 114,
     "metadata": {},
     "output_type": "execute_result"
    },
    {
     "data": {
      "image/png": "[encoded data removed]",
      "text/plain": [
       "<Figure size 640x480 with 2 Axes>"
      ]
     },
     "metadata": {},
     "output_type": "display_data"
    }
   ],
   "source": [
    "sns.heatmap(data.corr())"
   ]
  },
  {
   "cell_type": "code",
   "execution_count": 115,
   "id": "accd8843",
   "metadata": {},
   "outputs": [],
   "source": [
    "# Delete diaBP column as it is highly correlated to sysBP"
   ]
  },
  {
   "cell_type": "code",
   "execution_count": 116,
   "id": "2015e41c",
   "metadata": {},
   "outputs": [],
   "source": [
    "data.drop(['diaBP'],axis=1,inplace=True)"
   ]
  },
  {
   "cell_type": "code",
   "execution_count": 117,
   "id": "dc0b3ab7",
   "metadata": {},
   "outputs": [
    {
     "data": {
      "text/plain": [
       "<AxesSubplot:>"
      ]
     },
     "execution_count": 117,
     "metadata": {},
     "output_type": "execute_result"
    },
    {
     "data": {
      "image/png": "[encoded data removed]",
      "text/plain": [
       "<Figure size 640x480 with 2 Axes>"
      ]
     },
     "metadata": {},
     "output_type": "display_data"
    }
   ],
   "source": [
    "sns.heatmap(data.corr())"
   ]
  },
  {
   "cell_type": "code",
   "execution_count": 119,
   "id": "6e915ad9",
   "metadata": {},
   "outputs": [
    {
     "data": {
      "text/plain": [
       "male                  2\n",
       "age                  39\n",
       "education             4\n",
       "currentSmoker         2\n",
       "cigsPerDay           33\n",
       "BPMeds                2\n",
       "prevalentStroke       2\n",
       "prevalentHyp          2\n",
       "diabetes              2\n",
       "totChol             249\n",
       "sysBP               233\n",
       "BMI                1360\n",
       "heartRate            73\n",
       "glucose             143\n",
       "TenYearCHD            2\n",
       "dtype: int64"
      ]
     },
     "execution_count": 119,
     "metadata": {},
     "output_type": "execute_result"
    }
   ],
   "source": [
    "data.nunique()"
   ]
  },
  {
   "cell_type": "code",
   "execution_count": 121,
   "id": "90499d7a",
   "metadata": {},
   "outputs": [],
   "source": [
    "\n",
    "for col in ['glucose','totChol','BMI']:\n",
    "    data[col] = data[col].round(1)"
   ]
  },
  {
   "cell_type": "code",
   "execution_count": 122,
   "id": "205b9ff8",
   "metadata": {},
   "outputs": [],
   "source": [
    "data.to_csv('clean.csv')"
   ]
  },
  {
   "cell_type": "code",
   "execution_count": null,
   "id": "3c840085",
   "metadata": {},
   "outputs": [],
   "source": []
  }
 ],
 "metadata": {
  "kernelspec": {
   "display_name": "Python 3 (ipykernel)",
   "language": "python",
   "name": "python3"
  },
  "language_info": {
   "codemirror_mode": {
    "name": "ipython",
    "version": 3
   },
   "file_extension": ".py",
   "mimetype": "text/x-python",
   "name": "python",
   "nbconvert_exporter": "python",
   "pygments_lexer": "ipython3",
   "version": "3.9.7"
  }
 },
 "nbformat": 4,
 "nbformat_minor": 5
}
