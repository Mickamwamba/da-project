{
 "cells": [
  {
   "cell_type": "code",
   "execution_count": 1,
   "id": "2f203c04",
   "metadata": {},
   "outputs": [],
   "source": [
    "import os\n",
    "import pandas as pd\n",
    "from sklearn.linear_model import LogisticRegression\n",
    "from sklearn.model_selection import train_test_split\n",
    "import seaborn as sns\n",
    "import matplotlib.pyplot as plt"
   ]
  },
  {
   "cell_type": "code",
   "execution_count": 2,
   "id": "42ad6780",
   "metadata": {},
   "outputs": [
    {
     "data": {
      "text/html": [
       "<div>\n",
       "<style scoped>\n",
       "    .dataframe tbody tr th:only-of-type {\n",
       "        vertical-align: middle;\n",
       "    }\n",
       "\n",
       "    .dataframe tbody tr th {\n",
       "        vertical-align: top;\n",
       "    }\n",
       "\n",
       "    .dataframe thead th {\n",
       "        text-align: right;\n",
       "    }\n",
       "</style>\n",
       "<table border=\"1\" class=\"dataframe\">\n",
       "  <thead>\n",
       "    <tr style=\"text-align: right;\">\n",
       "      <th></th>\n",
       "      <th>Unnamed: 0</th>\n",
       "      <th>male</th>\n",
       "      <th>age</th>\n",
       "      <th>education</th>\n",
       "      <th>currentSmoker</th>\n",
       "      <th>cigsPerDay</th>\n",
       "      <th>BPMeds</th>\n",
       "      <th>prevalentStroke</th>\n",
       "      <th>prevalentHyp</th>\n",
       "      <th>diabetes</th>\n",
       "      <th>totChol</th>\n",
       "      <th>sysBP</th>\n",
       "      <th>BMI</th>\n",
       "      <th>heartRate</th>\n",
       "      <th>glucose</th>\n",
       "      <th>TenYearCHD</th>\n",
       "    </tr>\n",
       "  </thead>\n",
       "  <tbody>\n",
       "    <tr>\n",
       "      <th>0</th>\n",
       "      <td>0</td>\n",
       "      <td>1</td>\n",
       "      <td>39</td>\n",
       "      <td>4.0</td>\n",
       "      <td>0</td>\n",
       "      <td>0.0</td>\n",
       "      <td>0.0</td>\n",
       "      <td>0</td>\n",
       "      <td>0</td>\n",
       "      <td>0</td>\n",
       "      <td>195.0</td>\n",
       "      <td>106.0</td>\n",
       "      <td>27.0</td>\n",
       "      <td>80.0</td>\n",
       "      <td>77.0</td>\n",
       "      <td>0</td>\n",
       "    </tr>\n",
       "    <tr>\n",
       "      <th>1</th>\n",
       "      <td>1</td>\n",
       "      <td>0</td>\n",
       "      <td>46</td>\n",
       "      <td>2.0</td>\n",
       "      <td>0</td>\n",
       "      <td>0.0</td>\n",
       "      <td>0.0</td>\n",
       "      <td>0</td>\n",
       "      <td>0</td>\n",
       "      <td>0</td>\n",
       "      <td>250.0</td>\n",
       "      <td>121.0</td>\n",
       "      <td>28.7</td>\n",
       "      <td>95.0</td>\n",
       "      <td>76.0</td>\n",
       "      <td>0</td>\n",
       "    </tr>\n",
       "    <tr>\n",
       "      <th>2</th>\n",
       "      <td>2</td>\n",
       "      <td>1</td>\n",
       "      <td>48</td>\n",
       "      <td>1.0</td>\n",
       "      <td>1</td>\n",
       "      <td>20.0</td>\n",
       "      <td>0.0</td>\n",
       "      <td>0</td>\n",
       "      <td>0</td>\n",
       "      <td>0</td>\n",
       "      <td>245.0</td>\n",
       "      <td>127.5</td>\n",
       "      <td>25.3</td>\n",
       "      <td>75.0</td>\n",
       "      <td>70.0</td>\n",
       "      <td>0</td>\n",
       "    </tr>\n",
       "    <tr>\n",
       "      <th>3</th>\n",
       "      <td>3</td>\n",
       "      <td>0</td>\n",
       "      <td>61</td>\n",
       "      <td>3.0</td>\n",
       "      <td>1</td>\n",
       "      <td>30.0</td>\n",
       "      <td>0.0</td>\n",
       "      <td>0</td>\n",
       "      <td>1</td>\n",
       "      <td>0</td>\n",
       "      <td>225.0</td>\n",
       "      <td>150.0</td>\n",
       "      <td>28.6</td>\n",
       "      <td>65.0</td>\n",
       "      <td>103.0</td>\n",
       "      <td>1</td>\n",
       "    </tr>\n",
       "    <tr>\n",
       "      <th>4</th>\n",
       "      <td>4</td>\n",
       "      <td>0</td>\n",
       "      <td>46</td>\n",
       "      <td>3.0</td>\n",
       "      <td>1</td>\n",
       "      <td>23.0</td>\n",
       "      <td>0.0</td>\n",
       "      <td>0</td>\n",
       "      <td>0</td>\n",
       "      <td>0</td>\n",
       "      <td>285.0</td>\n",
       "      <td>130.0</td>\n",
       "      <td>23.1</td>\n",
       "      <td>85.0</td>\n",
       "      <td>85.0</td>\n",
       "      <td>0</td>\n",
       "    </tr>\n",
       "  </tbody>\n",
       "</table>\n",
       "</div>"
      ],
      "text/plain": [
       "   Unnamed: 0  male  age  education  currentSmoker  cigsPerDay  BPMeds  \\\n",
       "0           0     1   39        4.0              0         0.0     0.0   \n",
       "1           1     0   46        2.0              0         0.0     0.0   \n",
       "2           2     1   48        1.0              1        20.0     0.0   \n",
       "3           3     0   61        3.0              1        30.0     0.0   \n",
       "4           4     0   46        3.0              1        23.0     0.0   \n",
       "\n",
       "   prevalentStroke  prevalentHyp  diabetes  totChol  sysBP   BMI  heartRate  \\\n",
       "0                0             0         0    195.0  106.0  27.0       80.0   \n",
       "1                0             0         0    250.0  121.0  28.7       95.0   \n",
       "2                0             0         0    245.0  127.5  25.3       75.0   \n",
       "3                0             1         0    225.0  150.0  28.6       65.0   \n",
       "4                0             0         0    285.0  130.0  23.1       85.0   \n",
       "\n",
       "   glucose  TenYearCHD  \n",
       "0     77.0           0  \n",
       "1     76.0           0  \n",
       "2     70.0           0  \n",
       "3    103.0           1  \n",
       "4     85.0           0  "
      ]
     },
     "execution_count": 2,
     "metadata": {},
     "output_type": "execute_result"
    }
   ],
   "source": [
    "data = pd.read_csv('clean.csv')\n",
    "data.head()"
   ]
  },
  {
   "cell_type": "code",
   "execution_count": 3,
   "id": "cce7eb50",
   "metadata": {},
   "outputs": [],
   "source": [
    "X = data.drop('TenYearCHD',axis=1)\n",
    "y = data['TenYearCHD']"
   ]
  },
  {
   "cell_type": "code",
   "execution_count": 4,
   "id": "c51b52ac",
   "metadata": {},
   "outputs": [
    {
     "data": {
      "image/png": "[encoded data removed]",
      "text/plain": [
       "<Figure size 640x480 with 1 Axes>"
      ]
     },
     "metadata": {},
     "output_type": "display_data"
    }
   ],
   "source": [
    "from imblearn.over_sampling import SMOTE\n",
    "smote = SMOTE()\n",
    "X_ros, y_ros = smote.fit_resample(X, y)\n",
    "ros_chd_plot=y_ros.value_counts().plot(kind='bar')\n",
    "plt.show()"
   ]
  },
  {
   "cell_type": "code",
   "execution_count": 5,
   "id": "2a60dc6f",
   "metadata": {},
   "outputs": [
    {
     "data": {
      "text/html": [
       "<div>\n",
       "<style scoped>\n",
       "    .dataframe tbody tr th:only-of-type {\n",
       "        vertical-align: middle;\n",
       "    }\n",
       "\n",
       "    .dataframe tbody tr th {\n",
       "        vertical-align: top;\n",
       "    }\n",
       "\n",
       "    .dataframe thead th {\n",
       "        text-align: right;\n",
       "    }\n",
       "</style>\n",
       "<table border=\"1\" class=\"dataframe\">\n",
       "  <thead>\n",
       "    <tr style=\"text-align: right;\">\n",
       "      <th></th>\n",
       "      <th>Unnamed: 0</th>\n",
       "      <th>male</th>\n",
       "      <th>age</th>\n",
       "      <th>education</th>\n",
       "      <th>currentSmoker</th>\n",
       "      <th>cigsPerDay</th>\n",
       "      <th>BPMeds</th>\n",
       "      <th>prevalentStroke</th>\n",
       "      <th>prevalentHyp</th>\n",
       "      <th>diabetes</th>\n",
       "      <th>totChol</th>\n",
       "      <th>sysBP</th>\n",
       "      <th>BMI</th>\n",
       "      <th>heartRate</th>\n",
       "      <th>glucose</th>\n",
       "    </tr>\n",
       "  </thead>\n",
       "  <tbody>\n",
       "    <tr>\n",
       "      <th>3606</th>\n",
       "      <td>3653</td>\n",
       "      <td>0</td>\n",
       "      <td>38</td>\n",
       "      <td>1.0</td>\n",
       "      <td>1</td>\n",
       "      <td>30.0</td>\n",
       "      <td>0.0</td>\n",
       "      <td>0</td>\n",
       "      <td>0</td>\n",
       "      <td>0</td>\n",
       "      <td>164.0</td>\n",
       "      <td>113.0</td>\n",
       "      <td>25.8</td>\n",
       "      <td>70.0</td>\n",
       "      <td>75.0</td>\n",
       "    </tr>\n",
       "    <tr>\n",
       "      <th>794</th>\n",
       "      <td>805</td>\n",
       "      <td>1</td>\n",
       "      <td>49</td>\n",
       "      <td>3.0</td>\n",
       "      <td>1</td>\n",
       "      <td>3.0</td>\n",
       "      <td>0.0</td>\n",
       "      <td>0</td>\n",
       "      <td>0</td>\n",
       "      <td>0</td>\n",
       "      <td>219.0</td>\n",
       "      <td>130.0</td>\n",
       "      <td>24.4</td>\n",
       "      <td>60.0</td>\n",
       "      <td>65.0</td>\n",
       "    </tr>\n",
       "    <tr>\n",
       "      <th>3366</th>\n",
       "      <td>3411</td>\n",
       "      <td>1</td>\n",
       "      <td>63</td>\n",
       "      <td>1.0</td>\n",
       "      <td>1</td>\n",
       "      <td>9.0</td>\n",
       "      <td>0.0</td>\n",
       "      <td>0</td>\n",
       "      <td>0</td>\n",
       "      <td>0</td>\n",
       "      <td>188.0</td>\n",
       "      <td>113.0</td>\n",
       "      <td>29.0</td>\n",
       "      <td>74.0</td>\n",
       "      <td>93.0</td>\n",
       "    </tr>\n",
       "    <tr>\n",
       "      <th>1536</th>\n",
       "      <td>1556</td>\n",
       "      <td>0</td>\n",
       "      <td>43</td>\n",
       "      <td>2.0</td>\n",
       "      <td>0</td>\n",
       "      <td>0.0</td>\n",
       "      <td>0.0</td>\n",
       "      <td>0</td>\n",
       "      <td>0</td>\n",
       "      <td>0</td>\n",
       "      <td>213.0</td>\n",
       "      <td>96.0</td>\n",
       "      <td>19.4</td>\n",
       "      <td>74.0</td>\n",
       "      <td>80.0</td>\n",
       "    </tr>\n",
       "    <tr>\n",
       "      <th>1561</th>\n",
       "      <td>1583</td>\n",
       "      <td>1</td>\n",
       "      <td>36</td>\n",
       "      <td>2.0</td>\n",
       "      <td>1</td>\n",
       "      <td>20.0</td>\n",
       "      <td>0.0</td>\n",
       "      <td>0</td>\n",
       "      <td>0</td>\n",
       "      <td>0</td>\n",
       "      <td>242.0</td>\n",
       "      <td>118.5</td>\n",
       "      <td>24.0</td>\n",
       "      <td>78.0</td>\n",
       "      <td>103.0</td>\n",
       "    </tr>\n",
       "  </tbody>\n",
       "</table>\n",
       "</div>"
      ],
      "text/plain": [
       "      Unnamed: 0  male  age  education  currentSmoker  cigsPerDay  BPMeds  \\\n",
       "3606        3653     0   38        1.0              1        30.0     0.0   \n",
       "794          805     1   49        3.0              1         3.0     0.0   \n",
       "3366        3411     1   63        1.0              1         9.0     0.0   \n",
       "1536        1556     0   43        2.0              0         0.0     0.0   \n",
       "1561        1583     1   36        2.0              1        20.0     0.0   \n",
       "\n",
       "      prevalentStroke  prevalentHyp  diabetes  totChol  sysBP   BMI  \\\n",
       "3606                0             0         0    164.0  113.0  25.8   \n",
       "794                 0             0         0    219.0  130.0  24.4   \n",
       "3366                0             0         0    188.0  113.0  29.0   \n",
       "1536                0             0         0    213.0   96.0  19.4   \n",
       "1561                0             0         0    242.0  118.5  24.0   \n",
       "\n",
       "      heartRate  glucose  \n",
       "3606       70.0     75.0  \n",
       "794        60.0     65.0  \n",
       "3366       74.0     93.0  \n",
       "1536       74.0     80.0  \n",
       "1561       78.0    103.0  "
      ]
     },
     "execution_count": 5,
     "metadata": {},
     "output_type": "execute_result"
    }
   ],
   "source": [
    "from sklearn.model_selection import train_test_split\n",
    "\n",
    "X_train,X_test,y_train,y_test = train_test_split(X_ros,y_ros,test_size=0.2,random_state=42)\n",
    "X_train.head()"
   ]
  },
  {
   "cell_type": "code",
   "execution_count": null,
   "id": "27e69212",
   "metadata": {},
   "outputs": [],
   "source": []
  },
  {
   "cell_type": "code",
   "execution_count": 6,
   "id": "2cc1934c",
   "metadata": {},
   "outputs": [
    {
     "data": {
      "text/html": [
       "<div>\n",
       "<style scoped>\n",
       "    .dataframe tbody tr th:only-of-type {\n",
       "        vertical-align: middle;\n",
       "    }\n",
       "\n",
       "    .dataframe tbody tr th {\n",
       "        vertical-align: top;\n",
       "    }\n",
       "\n",
       "    .dataframe thead th {\n",
       "        text-align: right;\n",
       "    }\n",
       "</style>\n",
       "<table border=\"1\" class=\"dataframe\">\n",
       "  <thead>\n",
       "    <tr style=\"text-align: right;\">\n",
       "      <th></th>\n",
       "      <th>Unnamed: 0</th>\n",
       "      <th>male</th>\n",
       "      <th>age</th>\n",
       "      <th>education</th>\n",
       "      <th>currentSmoker</th>\n",
       "      <th>cigsPerDay</th>\n",
       "      <th>BPMeds</th>\n",
       "      <th>prevalentStroke</th>\n",
       "      <th>prevalentHyp</th>\n",
       "      <th>diabetes</th>\n",
       "      <th>totChol</th>\n",
       "      <th>sysBP</th>\n",
       "      <th>BMI</th>\n",
       "      <th>heartRate</th>\n",
       "      <th>glucose</th>\n",
       "    </tr>\n",
       "  </thead>\n",
       "  <tbody>\n",
       "    <tr>\n",
       "      <th>0</th>\n",
       "      <td>1.228669</td>\n",
       "      <td>-0.768723</td>\n",
       "      <td>-1.642620</td>\n",
       "      <td>-0.958847</td>\n",
       "      <td>1.201453</td>\n",
       "      <td>1.788737</td>\n",
       "      <td>-0.23276</td>\n",
       "      <td>-0.056354</td>\n",
       "      <td>-0.651694</td>\n",
       "      <td>-0.154164</td>\n",
       "      <td>-1.764383</td>\n",
       "      <td>-1.054282</td>\n",
       "      <td>-0.080970</td>\n",
       "      <td>-0.545019</td>\n",
       "      <td>-0.317135</td>\n",
       "    </tr>\n",
       "    <tr>\n",
       "      <th>1</th>\n",
       "      <td>-1.074921</td>\n",
       "      <td>1.300859</td>\n",
       "      <td>-0.274204</td>\n",
       "      <td>1.121203</td>\n",
       "      <td>1.201453</td>\n",
       "      <td>-0.563950</td>\n",
       "      <td>-0.23276</td>\n",
       "      <td>-0.056354</td>\n",
       "      <td>-0.651694</td>\n",
       "      <td>-0.154164</td>\n",
       "      <td>-0.479917</td>\n",
       "      <td>-0.293508</td>\n",
       "      <td>-0.438719</td>\n",
       "      <td>-1.435406</td>\n",
       "      <td>-0.681809</td>\n",
       "    </tr>\n",
       "    <tr>\n",
       "      <th>2</th>\n",
       "      <td>1.032929</td>\n",
       "      <td>1.300859</td>\n",
       "      <td>1.467417</td>\n",
       "      <td>-0.958847</td>\n",
       "      <td>1.201453</td>\n",
       "      <td>-0.041131</td>\n",
       "      <td>-0.23276</td>\n",
       "      <td>-0.056354</td>\n",
       "      <td>-0.651694</td>\n",
       "      <td>-0.154164</td>\n",
       "      <td>-1.203889</td>\n",
       "      <td>-1.054282</td>\n",
       "      <td>0.736742</td>\n",
       "      <td>-0.188865</td>\n",
       "      <td>0.339279</td>\n",
       "    </tr>\n",
       "    <tr>\n",
       "      <th>3</th>\n",
       "      <td>-0.467479</td>\n",
       "      <td>-0.768723</td>\n",
       "      <td>-1.020613</td>\n",
       "      <td>0.081178</td>\n",
       "      <td>-0.832325</td>\n",
       "      <td>-0.825360</td>\n",
       "      <td>-0.23276</td>\n",
       "      <td>-0.056354</td>\n",
       "      <td>-0.651694</td>\n",
       "      <td>-0.154164</td>\n",
       "      <td>-0.620041</td>\n",
       "      <td>-1.815057</td>\n",
       "      <td>-1.716393</td>\n",
       "      <td>-0.188865</td>\n",
       "      <td>-0.134798</td>\n",
       "    </tr>\n",
       "    <tr>\n",
       "      <th>4</th>\n",
       "      <td>-0.445640</td>\n",
       "      <td>1.300859</td>\n",
       "      <td>-1.891423</td>\n",
       "      <td>0.081178</td>\n",
       "      <td>1.201453</td>\n",
       "      <td>0.917371</td>\n",
       "      <td>-0.23276</td>\n",
       "      <td>-0.056354</td>\n",
       "      <td>-0.651694</td>\n",
       "      <td>-0.154164</td>\n",
       "      <td>0.057223</td>\n",
       "      <td>-0.808150</td>\n",
       "      <td>-0.540933</td>\n",
       "      <td>0.167290</td>\n",
       "      <td>0.703953</td>\n",
       "    </tr>\n",
       "  </tbody>\n",
       "</table>\n",
       "</div>"
      ],
      "text/plain": [
       "   Unnamed: 0      male       age  education  currentSmoker  cigsPerDay  \\\n",
       "0    1.228669 -0.768723 -1.642620  -0.958847       1.201453    1.788737   \n",
       "1   -1.074921  1.300859 -0.274204   1.121203       1.201453   -0.563950   \n",
       "2    1.032929  1.300859  1.467417  -0.958847       1.201453   -0.041131   \n",
       "3   -0.467479 -0.768723 -1.020613   0.081178      -0.832325   -0.825360   \n",
       "4   -0.445640  1.300859 -1.891423   0.081178       1.201453    0.917371   \n",
       "\n",
       "    BPMeds  prevalentStroke  prevalentHyp  diabetes   totChol     sysBP  \\\n",
       "0 -0.23276        -0.056354     -0.651694 -0.154164 -1.764383 -1.054282   \n",
       "1 -0.23276        -0.056354     -0.651694 -0.154164 -0.479917 -0.293508   \n",
       "2 -0.23276        -0.056354     -0.651694 -0.154164 -1.203889 -1.054282   \n",
       "3 -0.23276        -0.056354     -0.651694 -0.154164 -0.620041 -1.815057   \n",
       "4 -0.23276        -0.056354     -0.651694 -0.154164  0.057223 -0.808150   \n",
       "\n",
       "        BMI  heartRate   glucose  \n",
       "0 -0.080970  -0.545019 -0.317135  \n",
       "1 -0.438719  -1.435406 -0.681809  \n",
       "2  0.736742  -0.188865  0.339279  \n",
       "3 -1.716393  -0.188865 -0.134798  \n",
       "4 -0.540933   0.167290  0.703953  "
      ]
     },
     "execution_count": 6,
     "metadata": {},
     "output_type": "execute_result"
    }
   ],
   "source": [
    "#Scaling the data\n",
    "from sklearn.preprocessing import StandardScaler\n",
    "sc=StandardScaler()\n",
    "X_train=pd.DataFrame(sc.fit_transform(X_train))\n",
    "X_test=pd.DataFrame(sc.transform(X_test))\n",
    "# X_train.head()\n",
    "\n",
    "X_train.columns= X.columns   \n",
    "X_test.columns= X.columns\n",
    "\n",
    "y_train.index= X_train.index\n",
    "y_test.index= X_test.index\n",
    "\n",
    "X_train.head()"
   ]
  },
  {
   "cell_type": "code",
   "execution_count": null,
   "id": "49e08b49",
   "metadata": {},
   "outputs": [],
   "source": []
  },
  {
   "cell_type": "code",
   "execution_count": 7,
   "id": "fdade839",
   "metadata": {},
   "outputs": [],
   "source": [
    "from sklearn.metrics import classification_report\n",
    "def my_confusion_matrix(y_test, y_pred, plt_title):\n",
    "    cm=confusion_matrix(y_test, y_pred)\n",
    "    print(classification_report(y_test, y_pred))\n",
    "    sns.heatmap(cm, annot=True, fmt='g', cbar=False, cmap='BuPu')\n",
    "    plt.xlabel('Predicted Values')\n",
    "    plt.ylabel('Actual Values')\n",
    "    plt.title(plt_title)\n",
    "    plt.show()\n",
    "    return cm"
   ]
  },
  {
   "cell_type": "code",
   "execution_count": null,
   "id": "e0af8774",
   "metadata": {},
   "outputs": [],
   "source": []
  },
  {
   "cell_type": "code",
   "execution_count": 8,
   "id": "3cd584aa",
   "metadata": {},
   "outputs": [
    {
     "data": {
      "text/html": [
       "<style>#sk-container-id-1 {color: black;background-color: white;}#sk-container-id-1 pre{padding: 0;}#sk-container-id-1 div.sk-toggleable {background-color: white;}#sk-container-id-1 label.sk-toggleable__label {cursor: pointer;display: block;width: 100%;margin-bottom: 0;padding: 0.3em;box-sizing: border-box;text-align: center;}#sk-container-id-1 label.sk-toggleable__label-arrow:before {content: \"▸\";float: left;margin-right: 0.25em;color: #696969;}#sk-container-id-1 label.sk-toggleable__label-arrow:hover:before {color: black;}#sk-container-id-1 div.sk-estimator:hover label.sk-toggleable__label-arrow:before {color: black;}#sk-container-id-1 div.sk-toggleable__content {max-height: 0;max-width: 0;overflow: hidden;text-align: left;background-color: #f0f8ff;}#sk-container-id-1 div.sk-toggleable__content pre {margin: 0.2em;color: black;border-radius: 0.25em;background-color: #f0f8ff;}#sk-container-id-1 input.sk-toggleable__control:checked~div.sk-toggleable__content {max-height: 200px;max-width: 100%;overflow: auto;}#sk-container-id-1 input.sk-toggleable__control:checked~label.sk-toggleable__label-arrow:before {content: \"▾\";}#sk-container-id-1 div.sk-estimator input.sk-toggleable__control:checked~label.sk-toggleable__label {background-color: #d4ebff;}#sk-container-id-1 div.sk-label input.sk-toggleable__control:checked~label.sk-toggleable__label {background-color: #d4ebff;}#sk-container-id-1 input.sk-hidden--visually {border: 0;clip: rect(1px 1px 1px 1px);clip: rect(1px, 1px, 1px, 1px);height: 1px;margin: -1px;overflow: hidden;padding: 0;position: absolute;width: 1px;}#sk-container-id-1 div.sk-estimator {font-family: monospace;background-color: #f0f8ff;border: 1px dotted black;border-radius: 0.25em;box-sizing: border-box;margin-bottom: 0.5em;}#sk-container-id-1 div.sk-estimator:hover {background-color: #d4ebff;}#sk-container-id-1 div.sk-parallel-item::after {content: \"\";width: 100%;border-bottom: 1px solid gray;flex-grow: 1;}#sk-container-id-1 div.sk-label:hover label.sk-toggleable__label {background-color: #d4ebff;}#sk-container-id-1 div.sk-serial::before {content: \"\";position: absolute;border-left: 1px solid gray;box-sizing: border-box;top: 0;bottom: 0;left: 50%;z-index: 0;}#sk-container-id-1 div.sk-serial {display: flex;flex-direction: column;align-items: center;background-color: white;padding-right: 0.2em;padding-left: 0.2em;position: relative;}#sk-container-id-1 div.sk-item {position: relative;z-index: 1;}#sk-container-id-1 div.sk-parallel {display: flex;align-items: stretch;justify-content: center;background-color: white;position: relative;}#sk-container-id-1 div.sk-item::before, #sk-container-id-1 div.sk-parallel-item::before {content: \"\";position: absolute;border-left: 1px solid gray;box-sizing: border-box;top: 0;bottom: 0;left: 50%;z-index: -1;}#sk-container-id-1 div.sk-parallel-item {display: flex;flex-direction: column;z-index: 1;position: relative;background-color: white;}#sk-container-id-1 div.sk-parallel-item:first-child::after {align-self: flex-end;width: 50%;}#sk-container-id-1 div.sk-parallel-item:last-child::after {align-self: flex-start;width: 50%;}#sk-container-id-1 div.sk-parallel-item:only-child::after {width: 0;}#sk-container-id-1 div.sk-dashed-wrapped {border: 1px dashed gray;margin: 0 0.4em 0.5em 0.4em;box-sizing: border-box;padding-bottom: 0.4em;background-color: white;}#sk-container-id-1 div.sk-label label {font-family: monospace;font-weight: bold;display: inline-block;line-height: 1.2em;}#sk-container-id-1 div.sk-label-container {text-align: center;}#sk-container-id-1 div.sk-container {/* jupyter's `normalize.less` sets `[hidden] { display: none; }` but bootstrap.min.css set `[hidden] { display: none !important; }` so we also need the `!important` here to be able to override the default hidden behavior on the sphinx rendered scikit-learn.org. See: https://github.com/scikit-learn/scikit-learn/issues/21755 */display: inline-block !important;position: relative;}#sk-container-id-1 div.sk-text-repr-fallback {display: none;}</style><div id=\"sk-container-id-1\" class=\"sk-top-container\"><div class=\"sk-text-repr-fallback\"><pre>LogisticRegression()</pre><b>In a Jupyter environment, please rerun this cell to show the HTML representation or trust the notebook. <br />On GitHub, the HTML representation is unable to render, please try loading this page with nbviewer.org.</b></div><div class=\"sk-container\" hidden><div class=\"sk-item\"><div class=\"sk-estimator sk-toggleable\"><input class=\"sk-toggleable__control sk-hidden--visually\" id=\"sk-estimator-id-1\" type=\"checkbox\" checked><label for=\"sk-estimator-id-1\" class=\"sk-toggleable__label sk-toggleable__label-arrow\">LogisticRegression</label><div class=\"sk-toggleable__content\"><pre>LogisticRegression()</pre></div></div></div></div></div>"
      ],
      "text/plain": [
       "LogisticRegression()"
      ]
     },
     "execution_count": 8,
     "metadata": {},
     "output_type": "execute_result"
    }
   ],
   "source": [
    "model = LogisticRegression()\n",
    "model.fit(X_train,y_train)"
   ]
  },
  {
   "cell_type": "code",
   "execution_count": 9,
   "id": "bed9df39",
   "metadata": {},
   "outputs": [],
   "source": [
    "predictions = model.predict(X_test)"
   ]
  },
  {
   "cell_type": "code",
   "execution_count": 10,
   "id": "5595c680",
   "metadata": {},
   "outputs": [
    {
     "name": "stdout",
     "output_type": "stream",
     "text": [
      "Classificatio report               precision    recall  f1-score   support\n",
      "\n",
      "           0       0.72      0.71      0.71       719\n",
      "           1       0.71      0.71      0.71       703\n",
      "\n",
      "    accuracy                           0.71      1422\n",
      "   macro avg       0.71      0.71      0.71      1422\n",
      "weighted avg       0.71      0.71      0.71      1422\n",
      "\n",
      "********\n",
      "Accuracy with Logistic Regression:  0.7109704641350211\n",
      "********\n",
      "              precision    recall  f1-score   support\n",
      "\n",
      "           0       0.72      0.71      0.71       719\n",
      "           1       0.71      0.71      0.71       703\n",
      "\n",
      "    accuracy                           0.71      1422\n",
      "   macro avg       0.71      0.71      0.71      1422\n",
      "weighted avg       0.71      0.71      0.71      1422\n",
      "\n"
     ]
    },
    {
     "data": {
      "image/png": "[encoded data removed]",
      "text/plain": [
       "<Figure size 640x480 with 1 Axes>"
      ]
     },
     "metadata": {},
     "output_type": "display_data"
    },
    {
     "name": "stdout",
     "output_type": "stream",
     "text": [
      "The confusion matrix [[510 209]\n",
      " [202 501]]\n"
     ]
    }
   ],
   "source": [
    "from sklearn.metrics import classification_report, accuracy_score,confusion_matrix\n",
    "\n",
    "print('Classificatio report',classification_report(y_test,predictions))\n",
    "print('********')\n",
    "\n",
    "print('Accuracy with Logistic Regression: ',accuracy_score(y_test,predictions))\n",
    "print('********')\n",
    "\n",
    "print('The confusion matrix',my_confusion_matrix(y_test,predictions,'Logistic Regression CM'))"
   ]
  },
  {
   "cell_type": "code",
   "execution_count": null,
   "id": "fc765bc1",
   "metadata": {},
   "outputs": [],
   "source": []
  },
  {
   "cell_type": "markdown",
   "id": "013021d4",
   "metadata": {},
   "source": [
    "## Predicting using KNN"
   ]
  },
  {
   "cell_type": "code",
   "execution_count": 15,
   "id": "4c028b99",
   "metadata": {},
   "outputs": [
    {
     "data": {
      "image/png": "[encoded data removed]",
      "text/plain": [
       "<Figure size 1000x600 with 1 Axes>"
      ]
     },
     "metadata": {},
     "output_type": "display_data"
    }
   ],
   "source": [
    "from sklearn.neighbors import KNeighborsClassifier\n",
    "import numpy as np\n",
    "#Visualisation for the Error Rate/K-value \n",
    "error_rate = []\n",
    "for i in range(1,40):\n",
    "    knn = KNeighborsClassifier(n_neighbors=i, metric = 'minkowski', p=2)\n",
    "    knn.fit(X_train,y_train)\n",
    "    pred_i_knn = knn.predict(X_test)\n",
    "    error_rate.append(np.mean(pred_i_knn != y_test))\n",
    "plt.figure(figsize=(10,6))\n",
    "plt.plot(range(1,40),error_rate,color='blue', linestyle='dashed', \n",
    "         marker='o',markerfacecolor='red', markersize=10)\n",
    "plt.title('Error Rate vs. K Value')\n",
    "plt.xlabel('K')\n",
    "plt.ylabel('Error Rate')\n",
    "plt.show()"
   ]
  },
  {
   "cell_type": "markdown",
   "id": "7a259287",
   "metadata": {},
   "source": [
    "### Notice that the lowest error rate is at k=1 "
   ]
  },
  {
   "cell_type": "code",
   "execution_count": 20,
   "id": "15dab0ed",
   "metadata": {},
   "outputs": [
    {
     "name": "stdout",
     "output_type": "stream",
     "text": [
      "KNN Accuracy Score:  0.8037974683544303\n",
      "              precision    recall  f1-score   support\n",
      "\n",
      "           0       0.88      0.71      0.79       719\n",
      "           1       0.75      0.90      0.82       703\n",
      "\n",
      "    accuracy                           0.80      1422\n",
      "   macro avg       0.81      0.80      0.80      1422\n",
      "weighted avg       0.82      0.80      0.80      1422\n",
      "\n"
     ]
    },
    {
     "data": {
      "image/png": "[encoded data removed]",
      "text/plain": [
       "<Figure size 640x480 with 1 Axes>"
      ]
     },
     "metadata": {},
     "output_type": "display_data"
    }
   ],
   "source": [
    "\n",
    "knn_classifier = KNeighborsClassifier(n_neighbors = 1, metric = 'minkowski', p=2) # use n_neighbours = 1 from above graph \n",
    "knn_classifier.fit(X_train, y_train)\n",
    "y_pred_knn=knn_classifier.predict(X_test)\n",
    "print('KNN Accuracy Score: ',accuracy_score(y_test,y_pred_knn))\n",
    "cm_knn=my_confusion_matrix(y_test, y_pred_knn, 'KNN Confusion Matrix')"
   ]
  },
  {
   "cell_type": "markdown",
   "id": "671ed7c7",
   "metadata": {},
   "source": [
    "## Fit Decision Tree Classifier"
   ]
  },
  {
   "cell_type": "code",
   "execution_count": 21,
   "id": "4af623bb",
   "metadata": {},
   "outputs": [
    {
     "name": "stdout",
     "output_type": "stream",
     "text": [
      "Decision Tree Accuracy Score:  0.8037974683544303\n",
      "              precision    recall  f1-score   support\n",
      "\n",
      "           0       0.84      0.76      0.80       719\n",
      "           1       0.78      0.85      0.81       703\n",
      "\n",
      "    accuracy                           0.80      1422\n",
      "   macro avg       0.81      0.80      0.80      1422\n",
      "weighted avg       0.81      0.80      0.80      1422\n",
      "\n"
     ]
    },
    {
     "data": {
      "image/png": "[encoded data removed]",
      "text/plain": [
       "<Figure size 640x480 with 1 Axes>"
      ]
     },
     "metadata": {},
     "output_type": "display_data"
    }
   ],
   "source": [
    "from sklearn.tree import DecisionTreeClassifier\n",
    "\n",
    "dt_classifier = DecisionTreeClassifier(random_state=42)\n",
    "dt_classifier.fit(X_train, y_train)\n",
    "y_pred_dt=dt_classifier.predict(X_test)\n",
    "print('Decision Tree Accuracy Score: ',accuracy_score(y_test,y_pred_dt))\n",
    "cm_knn=my_confusion_matrix(y_test, y_pred_dt, 'Decsion Tree Confusion Matrix')"
   ]
  },
  {
   "cell_type": "code",
   "execution_count": null,
   "id": "935d6166",
   "metadata": {},
   "outputs": [],
   "source": []
  },
  {
   "cell_type": "markdown",
   "id": "dc7d227b",
   "metadata": {},
   "source": [
    "## Fit XGB Boost Classifier: "
   ]
  },
  {
   "cell_type": "code",
   "execution_count": 24,
   "id": "274da314",
   "metadata": {},
   "outputs": [
    {
     "name": "stdout",
     "output_type": "stream",
     "text": [
      "XGB Accuracy Score:  0.8980309423347398\n",
      "              precision    recall  f1-score   support\n",
      "\n",
      "           0       0.87      0.94      0.90       719\n",
      "           1       0.93      0.85      0.89       703\n",
      "\n",
      "    accuracy                           0.90      1422\n",
      "   macro avg       0.90      0.90      0.90      1422\n",
      "weighted avg       0.90      0.90      0.90      1422\n",
      "\n"
     ]
    },
    {
     "data": {
      "image/png": "[encoded data removed]",
      "text/plain": [
       "<Figure size 640x480 with 1 Axes>"
      ]
     },
     "metadata": {},
     "output_type": "display_data"
    }
   ],
   "source": [
    "import xgboost as xgb\n",
    "\n",
    "xgb_classifier = xgb.XGBClassifier(random_state=42)\n",
    "xgb_classifier.fit(X_train, y_train)\n",
    "y_pred_xgb=xgb_classifier.predict(X_test)\n",
    "print('XGB Accuracy Score: ',accuracy_score(y_test,y_pred_xgb))\n",
    "cm_knn=my_confusion_matrix(y_test, y_pred_xgb, 'XGB Confusion Matrix')"
   ]
  }
 ],
 "metadata": {
  "kernelspec": {
   "display_name": "Python 3 (ipykernel)",
   "language": "python",
   "name": "python3"
  },
  "language_info": {
   "codemirror_mode": {
    "name": "ipython",
    "version": 3
   },
   "file_extension": ".py",
   "mimetype": "text/x-python",
   "name": "python",
   "nbconvert_exporter": "python",
   "pygments_lexer": "ipython3",
   "version": "3.9.7"
  }
 },
 "nbformat": 4,
 "nbformat_minor": 5
}
